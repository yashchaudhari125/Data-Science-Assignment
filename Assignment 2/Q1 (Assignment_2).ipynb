{
 "cells": [
  {
   "cell_type": "markdown",
   "id": "cec9310a",
   "metadata": {},
   "source": [
    "# Q. Look at the data given below. Plot the data, find the outliers and find out  μ,σ,σ^2"
   ]
  },
  {
   "cell_type": "code",
   "execution_count": 5,
   "id": "01181a28",
   "metadata": {},
   "outputs": [],
   "source": [
    "import pandas as pd\n",
    "import matplotlib.pyplot as plt"
   ]
  },
  {
   "cell_type": "code",
   "execution_count": 16,
   "id": "398de891",
   "metadata": {},
   "outputs": [],
   "source": [
    "data=pd.DataFrame({\n",
    "    'Name of the Company':['Allied','Bankers Trust','General Mills','ITT Industries','J.P.Morgan & Co.','Lehman Brothers','Marriott','MCI','Merrill Lynch','Microsoft','Morgan Stanley','Sun Microsystems','Travelers','US Airways','Warner-Lambert'],\n",
    "    'Measure of X':[24.23,25.53,25.41,24.14,29.62,28.25,25.81,24.39,40.26,35.95,91.36,25.99,39.42,26.71,35.00]\n",
    "})"
   ]
  },
  {
   "cell_type": "markdown",
   "id": "0865afd8",
   "metadata": {},
   "source": [
    "### Plot the data"
   ]
  },
  {
   "cell_type": "code",
   "execution_count": 17,
   "id": "3f0d56d9",
   "metadata": {},
   "outputs": [
    {
     "data": {
      "text/html": [
       "<div>\n",
       "<style scoped>\n",
       "    .dataframe tbody tr th:only-of-type {\n",
       "        vertical-align: middle;\n",
       "    }\n",
       "\n",
       "    .dataframe tbody tr th {\n",
       "        vertical-align: top;\n",
       "    }\n",
       "\n",
       "    .dataframe thead th {\n",
       "        text-align: right;\n",
       "    }\n",
       "</style>\n",
       "<table border=\"1\" class=\"dataframe\">\n",
       "  <thead>\n",
       "    <tr style=\"text-align: right;\">\n",
       "      <th></th>\n",
       "      <th>Name of the Company</th>\n",
       "      <th>Measure of X</th>\n",
       "    </tr>\n",
       "  </thead>\n",
       "  <tbody>\n",
       "    <tr>\n",
       "      <th>0</th>\n",
       "      <td>Allied</td>\n",
       "      <td>24.23</td>\n",
       "    </tr>\n",
       "    <tr>\n",
       "      <th>1</th>\n",
       "      <td>Bankers Trust</td>\n",
       "      <td>25.53</td>\n",
       "    </tr>\n",
       "    <tr>\n",
       "      <th>2</th>\n",
       "      <td>General Mills</td>\n",
       "      <td>25.41</td>\n",
       "    </tr>\n",
       "    <tr>\n",
       "      <th>3</th>\n",
       "      <td>ITT Industries</td>\n",
       "      <td>24.14</td>\n",
       "    </tr>\n",
       "    <tr>\n",
       "      <th>4</th>\n",
       "      <td>J.P.Morgan &amp; Co.</td>\n",
       "      <td>29.62</td>\n",
       "    </tr>\n",
       "    <tr>\n",
       "      <th>5</th>\n",
       "      <td>Lehman Brothers</td>\n",
       "      <td>28.25</td>\n",
       "    </tr>\n",
       "    <tr>\n",
       "      <th>6</th>\n",
       "      <td>Marriott</td>\n",
       "      <td>25.81</td>\n",
       "    </tr>\n",
       "    <tr>\n",
       "      <th>7</th>\n",
       "      <td>MCI</td>\n",
       "      <td>24.39</td>\n",
       "    </tr>\n",
       "    <tr>\n",
       "      <th>8</th>\n",
       "      <td>Merrill Lynch</td>\n",
       "      <td>40.26</td>\n",
       "    </tr>\n",
       "    <tr>\n",
       "      <th>9</th>\n",
       "      <td>Microsoft</td>\n",
       "      <td>35.95</td>\n",
       "    </tr>\n",
       "    <tr>\n",
       "      <th>10</th>\n",
       "      <td>Morgan Stanley</td>\n",
       "      <td>91.36</td>\n",
       "    </tr>\n",
       "    <tr>\n",
       "      <th>11</th>\n",
       "      <td>Sun Microsystems</td>\n",
       "      <td>25.99</td>\n",
       "    </tr>\n",
       "    <tr>\n",
       "      <th>12</th>\n",
       "      <td>Travelers</td>\n",
       "      <td>39.42</td>\n",
       "    </tr>\n",
       "    <tr>\n",
       "      <th>13</th>\n",
       "      <td>US Airways</td>\n",
       "      <td>26.71</td>\n",
       "    </tr>\n",
       "    <tr>\n",
       "      <th>14</th>\n",
       "      <td>Warner-Lambert</td>\n",
       "      <td>35.00</td>\n",
       "    </tr>\n",
       "  </tbody>\n",
       "</table>\n",
       "</div>"
      ],
      "text/plain": [
       "   Name of the Company  Measure of X\n",
       "0               Allied         24.23\n",
       "1        Bankers Trust         25.53\n",
       "2        General Mills         25.41\n",
       "3       ITT Industries         24.14\n",
       "4     J.P.Morgan & Co.         29.62\n",
       "5      Lehman Brothers         28.25\n",
       "6             Marriott         25.81\n",
       "7                  MCI         24.39\n",
       "8        Merrill Lynch         40.26\n",
       "9            Microsoft         35.95\n",
       "10      Morgan Stanley         91.36\n",
       "11    Sun Microsystems         25.99\n",
       "12           Travelers         39.42\n",
       "13          US Airways         26.71\n",
       "14      Warner-Lambert         35.00"
      ]
     },
     "execution_count": 17,
     "metadata": {},
     "output_type": "execute_result"
    }
   ],
   "source": [
    "data"
   ]
  },
  {
   "cell_type": "code",
   "execution_count": 21,
   "id": "d2b1e120",
   "metadata": {},
   "outputs": [
    {
     "data": {
      "text/plain": [
       "Text(0, 0.5, 'Measure of X')"
      ]
     },
     "execution_count": 21,
     "metadata": {},
     "output_type": "execute_result"
    },
    {
     "data": {
      "image/png": "[encoded data removed]",
      "text/plain": [
       "<Figure size 640x480 with 1 Axes>"
      ]
     },
     "metadata": {},
     "output_type": "display_data"
    }
   ],
   "source": [
    "data.plot(kind='bar',x='Name of the Company',y='Measure of X')\n",
    "plt.title('Measure X by Company')\n",
    "plt.xlabel('Company')\n",
    "plt.ylabel('Measure of X')"
   ]
  },
  {
   "cell_type": "markdown",
   "id": "b51686d8",
   "metadata": {},
   "source": [
    "### finding  the outliers "
   ]
  },
  {
   "cell_type": "code",
   "execution_count": 24,
   "id": "2f34ffa4",
   "metadata": {},
   "outputs": [
    {
     "data": {
      "image/png": "[encoded data removed]",
      "text/plain": [
       "<Figure size 640x480 with 1 Axes>"
      ]
     },
     "metadata": {},
     "output_type": "display_data"
    }
   ],
   "source": [
    "plt.boxplot(data['Measure of X'])\n",
    "plt.show()"
   ]
  },
  {
   "cell_type": "markdown",
   "id": "5924ada5",
   "metadata": {},
   "source": [
    "#### In the Morgan Stanley the data point is far away from the other company so it is consider as a outlier"
   ]
  },
  {
   "cell_type": "markdown",
   "id": "9e14bbc1",
   "metadata": {},
   "source": [
    "## Find out the population mean, Standard Deviation and Variance"
   ]
  },
  {
   "cell_type": "code",
   "execution_count": 29,
   "id": "eead5ecd",
   "metadata": {},
   "outputs": [
    {
     "data": {
      "text/plain": [
       "33.471333333333334"
      ]
     },
     "execution_count": 29,
     "metadata": {},
     "output_type": "execute_result"
    }
   ],
   "source": [
    "# Finding out the mean\n",
    "data['Measure of X'].mean()"
   ]
  },
  {
   "cell_type": "code",
   "execution_count": 30,
   "id": "72ab5648",
   "metadata": {},
   "outputs": [
    {
     "data": {
      "text/plain": [
       "16.95903588342327"
      ]
     },
     "execution_count": 30,
     "metadata": {},
     "output_type": "execute_result"
    }
   ],
   "source": [
    "# finding out the standard deviation\n",
    "data['Measure of X'].std()"
   ]
  },
  {
   "cell_type": "code",
   "execution_count": 31,
   "id": "958ab37d",
   "metadata": {},
   "outputs": [
    {
     "data": {
      "text/plain": [
       "287.6088980952381"
      ]
     },
     "execution_count": 31,
     "metadata": {},
     "output_type": "execute_result"
    }
   ],
   "source": [
    "# finding out the variance\n",
    "data['Measure of X'].var()"
   ]
  },
  {
   "cell_type": "code",
   "execution_count": null,
   "id": "66dc58b5",
   "metadata": {},
   "outputs": [],
   "source": []
  },
  {
   "cell_type": "code",
   "execution_count": null,
   "id": "b172caba",
   "metadata": {},
   "outputs": [],
   "source": []
  }
 ],
 "metadata": {
  "kernelspec": {
   "display_name": "Python 3 (ipykernel)",
   "language": "python",
   "name": "python3"
  },
  "language_info": {
   "codemirror_mode": {
    "name": "ipython",
    "version": 3
   },
   "file_extension": ".py",
   "mimetype": "text/x-python",
   "name": "python",
   "nbconvert_exporter": "python",
   "pygments_lexer": "ipython3",
   "version": "3.9.13"
  }
 },
 "nbformat": 4,
 "nbformat_minor": 5
}
