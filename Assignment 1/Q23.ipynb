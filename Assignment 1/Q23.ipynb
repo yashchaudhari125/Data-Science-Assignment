{
 "cells": [
  {
   "cell_type": "code",
   "execution_count": 1,
   "id": "5978d9da",
   "metadata": {},
   "outputs": [],
   "source": [
    "from scipy import stats as st"
   ]
  },
  {
   "cell_type": "code",
   "execution_count": 8,
   "id": "40efde1c",
   "metadata": {},
   "outputs": [],
   "source": [
    "# t-score for 95 % confidence level with sample size 25\n",
    "    # Given p=0.95 , n=25 degree of freedom =n-1 =24 \n",
    "    \n",
    "# t-value for 95% confidence level with 24 degree of freedom is 2.6"
   ]
  },
  {
   "cell_type": "code",
   "execution_count": 7,
   "id": "59e5854c",
   "metadata": {},
   "outputs": [
    {
     "data": {
      "text/plain": [
       "2.0638985616280205"
      ]
     },
     "execution_count": 7,
     "metadata": {},
     "output_type": "execute_result"
    }
   ],
   "source": [
    "st.t.ppf(0.975,24)"
   ]
  },
  {
   "cell_type": "code",
   "execution_count": null,
   "id": "696e96db",
   "metadata": {},
   "outputs": [],
   "source": [
    "# t-score for 96 % confidence level with sample size 25\n",
    "    # Given p=0.96 , n=25 degree of freedom =n-1 =24 \n",
    "    \n",
    "# t-value for 96% confidence level with 24 degree of freedom is 2.17"
   ]
  },
  {
   "cell_type": "code",
   "execution_count": 9,
   "id": "232a6f8c",
   "metadata": {},
   "outputs": [
    {
     "data": {
      "text/plain": [
       "2.1715446760080677"
      ]
     },
     "execution_count": 9,
     "metadata": {},
     "output_type": "execute_result"
    }
   ],
   "source": [
    "st.t.ppf(0.98,24)"
   ]
  },
  {
   "cell_type": "code",
   "execution_count": null,
   "id": "61741b56",
   "metadata": {},
   "outputs": [],
   "source": [
    "# t-score for 99 % confidence level with sample size 25\n",
    "    # Given p=0.99 , n=25 degree of freedom =n-1 =24 \n",
    "    \n",
    "# t-value for 96% confidence level with 24 degree of freedom is 2.79"
   ]
  },
  {
   "cell_type": "code",
   "execution_count": 10,
   "id": "485b0c9c",
   "metadata": {},
   "outputs": [
    {
     "data": {
      "text/plain": [
       "2.796939504772804"
      ]
     },
     "execution_count": 10,
     "metadata": {},
     "output_type": "execute_result"
    }
   ],
   "source": [
    "st.t.ppf(0.995,24)"
   ]
  },
  {
   "cell_type": "code",
   "execution_count": null,
   "id": "a3f900d0",
   "metadata": {},
   "outputs": [],
   "source": []
  }
 ],
 "metadata": {
  "kernelspec": {
   "display_name": "Python 3 (ipykernel)",
   "language": "python",
   "name": "python3"
  },
  "language_info": {
   "codemirror_mode": {
    "name": "ipython",
    "version": 3
   },
   "file_extension": ".py",
   "mimetype": "text/x-python",
   "name": "python",
   "nbconvert_exporter": "python",
   "pygments_lexer": "ipython3",
   "version": "3.9.13"
  }
 },
 "nbformat": 4,
 "nbformat_minor": 5
}
