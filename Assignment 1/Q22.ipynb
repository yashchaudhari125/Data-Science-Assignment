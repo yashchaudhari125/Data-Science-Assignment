{
 "cells": [
  {
   "cell_type": "code",
   "execution_count": 3,
   "id": "c2fca499",
   "metadata": {},
   "outputs": [],
   "source": [
    "from scipy import stats as st"
   ]
  },
  {
   "cell_type": "code",
   "execution_count": 1,
   "id": "b3347a51",
   "metadata": {},
   "outputs": [],
   "source": [
    "#Z scores of  90% confidence"
   ]
  },
  {
   "cell_type": "code",
   "execution_count": null,
   "id": "05a4bdc9",
   "metadata": {},
   "outputs": [],
   "source": [
    "# In the normal distribution we include one side error margin so the total left hand side\n",
    "# probability \n",
    "# so for 90 % confidence level = 0.90 + 0.05 =0.95 or 95 % i.e 1.644"
   ]
  },
  {
   "cell_type": "code",
   "execution_count": 13,
   "id": "f07ce8d9",
   "metadata": {
    "scrolled": true
   },
   "outputs": [
    {
     "data": {
      "text/plain": [
       "1.6448536269514722"
      ]
     },
     "execution_count": 13,
     "metadata": {},
     "output_type": "execute_result"
    }
   ],
   "source": [
    "st.norm.ppf(0.95)"
   ]
  },
  {
   "cell_type": "code",
   "execution_count": null,
   "id": "3405b24a",
   "metadata": {},
   "outputs": [],
   "source": [
    "# In the normal distribution we include one side error margin so the total left hand side\n",
    "# probability \n",
    "# so for 94 % confidence level = 0.94 + 0.03 =0.97 or 95 % i.e 1.880s"
   ]
  },
  {
   "cell_type": "code",
   "execution_count": 5,
   "id": "1a45d81d",
   "metadata": {},
   "outputs": [
    {
     "data": {
      "text/plain": [
       "1.8807936081512509"
      ]
     },
     "execution_count": 5,
     "metadata": {},
     "output_type": "execute_result"
    }
   ],
   "source": [
    "st.norm.ppf(0.97)"
   ]
  },
  {
   "cell_type": "code",
   "execution_count": 6,
   "id": "f3642855",
   "metadata": {},
   "outputs": [],
   "source": [
    "# In the normal distribution we include one side error margin so the total left hand side\n",
    "# probability \n",
    "# so for 60 % confidence level = 0.60 + 0.20 =0.80 or 80 % i.e 0.8416"
   ]
  },
  {
   "cell_type": "code",
   "execution_count": 7,
   "id": "1d896884",
   "metadata": {},
   "outputs": [
    {
     "data": {
      "text/plain": [
       "0.8416212335729143"
      ]
     },
     "execution_count": 7,
     "metadata": {},
     "output_type": "execute_result"
    }
   ],
   "source": [
    "st.norm.ppf(0.80)"
   ]
  },
  {
   "cell_type": "code",
   "execution_count": null,
   "id": "f84da87d",
   "metadata": {},
   "outputs": [],
   "source": []
  }
 ],
 "metadata": {
  "kernelspec": {
   "display_name": "Python 3 (ipykernel)",
   "language": "python",
   "name": "python3"
  },
  "language_info": {
   "codemirror_mode": {
    "name": "ipython",
    "version": 3
   },
   "file_extension": ".py",
   "mimetype": "text/x-python",
   "name": "python",
   "nbconvert_exporter": "python",
   "pygments_lexer": "ipython3",
   "version": "3.9.13"
  }
 },
 "nbformat": 4,
 "nbformat_minor": 5
}
