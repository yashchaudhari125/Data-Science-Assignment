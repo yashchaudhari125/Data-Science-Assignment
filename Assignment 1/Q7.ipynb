{
 "cells": [
  {
   "cell_type": "code",
   "execution_count": 3,
   "id": "7bf2d98d",
   "metadata": {},
   "outputs": [],
   "source": [
    "import pandas as pd"
   ]
  },
  {
   "cell_type": "code",
   "execution_count": 4,
   "id": "b76ca957",
   "metadata": {},
   "outputs": [],
   "source": [
    "df=pd.read_csv(r'Q7.csv')"
   ]
  },
  {
   "cell_type": "code",
   "execution_count": 11,
   "id": "fcdc166a",
   "metadata": {},
   "outputs": [],
   "source": [
    "df.rename(columns={'Unnamed: 0':'Car_Name'},inplace=True)"
   ]
  },
  {
   "cell_type": "code",
   "execution_count": 11,
   "id": "fc5757c1",
   "metadata": {},
   "outputs": [
    {
     "data": {
      "text/html": [
       "<div>\n",
       "<style scoped>\n",
       "    .dataframe tbody tr th:only-of-type {\n",
       "        vertical-align: middle;\n",
       "    }\n",
       "\n",
       "    .dataframe tbody tr th {\n",
       "        vertical-align: top;\n",
       "    }\n",
       "\n",
       "    .dataframe thead th {\n",
       "        text-align: right;\n",
       "    }\n",
       "</style>\n",
       "<table border=\"1\" class=\"dataframe\">\n",
       "  <thead>\n",
       "    <tr style=\"text-align: right;\">\n",
       "      <th></th>\n",
       "      <th>Car_Name</th>\n",
       "      <th>Points</th>\n",
       "      <th>Score</th>\n",
       "      <th>Weigh</th>\n",
       "    </tr>\n",
       "  </thead>\n",
       "  <tbody>\n",
       "    <tr>\n",
       "      <th>0</th>\n",
       "      <td>Mazda RX4</td>\n",
       "      <td>3.90</td>\n",
       "      <td>2.620</td>\n",
       "      <td>16.46</td>\n",
       "    </tr>\n",
       "    <tr>\n",
       "      <th>1</th>\n",
       "      <td>Mazda RX4 Wag</td>\n",
       "      <td>3.90</td>\n",
       "      <td>2.875</td>\n",
       "      <td>17.02</td>\n",
       "    </tr>\n",
       "    <tr>\n",
       "      <th>2</th>\n",
       "      <td>Datsun 710</td>\n",
       "      <td>3.85</td>\n",
       "      <td>2.320</td>\n",
       "      <td>18.61</td>\n",
       "    </tr>\n",
       "    <tr>\n",
       "      <th>3</th>\n",
       "      <td>Hornet 4 Drive</td>\n",
       "      <td>3.08</td>\n",
       "      <td>3.215</td>\n",
       "      <td>19.44</td>\n",
       "    </tr>\n",
       "    <tr>\n",
       "      <th>4</th>\n",
       "      <td>Hornet Sportabout</td>\n",
       "      <td>3.15</td>\n",
       "      <td>3.440</td>\n",
       "      <td>17.02</td>\n",
       "    </tr>\n",
       "  </tbody>\n",
       "</table>\n",
       "</div>"
      ],
      "text/plain": [
       "            Car_Name  Points  Score  Weigh\n",
       "0          Mazda RX4    3.90  2.620  16.46\n",
       "1      Mazda RX4 Wag    3.90  2.875  17.02\n",
       "2         Datsun 710    3.85  2.320  18.61\n",
       "3     Hornet 4 Drive    3.08  3.215  19.44\n",
       "4  Hornet Sportabout    3.15  3.440  17.02"
      ]
     },
     "execution_count": 11,
     "metadata": {},
     "output_type": "execute_result"
    }
   ],
   "source": [
    "df.head()"
   ]
  },
  {
   "cell_type": "code",
   "execution_count": 6,
   "id": "f6666a2d",
   "metadata": {},
   "outputs": [],
   "source": [
    "# Find Mean, Median, Mode, Variance, Standard Deviation, and \n",
    "# Range and also Comment about the values/ Draw some inferences."
   ]
  },
  {
   "cell_type": "code",
   "execution_count": 12,
   "id": "bfa5adf6",
   "metadata": {},
   "outputs": [],
   "source": [
    "# Calculating the mean for Points,Score,Weigh"
   ]
  },
  {
   "cell_type": "code",
   "execution_count": 15,
   "id": "265ddfbc",
   "metadata": {},
   "outputs": [],
   "source": [
    "mean_Points=df['Points'].mean()\n",
    "mean_Score=df['Score'].mean()\n",
    "mean_Weigh=df['Weigh'].mean()"
   ]
  },
  {
   "cell_type": "code",
   "execution_count": 17,
   "id": "146bb078",
   "metadata": {},
   "outputs": [
    {
     "data": {
      "text/plain": [
       "3.5965625000000006"
      ]
     },
     "execution_count": 17,
     "metadata": {},
     "output_type": "execute_result"
    }
   ],
   "source": [
    "mean_Points"
   ]
  },
  {
   "cell_type": "code",
   "execution_count": 18,
   "id": "a4b08b7b",
   "metadata": {},
   "outputs": [
    {
     "data": {
      "text/plain": [
       "3.2172499999999995"
      ]
     },
     "execution_count": 18,
     "metadata": {},
     "output_type": "execute_result"
    }
   ],
   "source": [
    "mean_Score"
   ]
  },
  {
   "cell_type": "code",
   "execution_count": 19,
   "id": "94d9b64a",
   "metadata": {},
   "outputs": [
    {
     "data": {
      "text/plain": [
       "17.848750000000003"
      ]
     },
     "execution_count": 19,
     "metadata": {},
     "output_type": "execute_result"
    }
   ],
   "source": [
    "mean_Weigh"
   ]
  },
  {
   "cell_type": "code",
   "execution_count": 21,
   "id": "f09a474a",
   "metadata": {},
   "outputs": [],
   "source": [
    "median_Points=df['Points'].median()\n",
    "median_Score=df['Score'].median()\n",
    "median_Weigh=df['Weigh'].median()"
   ]
  },
  {
   "cell_type": "code",
   "execution_count": 22,
   "id": "56b2e29c",
   "metadata": {},
   "outputs": [
    {
     "data": {
      "text/plain": [
       "3.6950000000000003"
      ]
     },
     "execution_count": 22,
     "metadata": {},
     "output_type": "execute_result"
    }
   ],
   "source": [
    "median_Points"
   ]
  },
  {
   "cell_type": "code",
   "execution_count": 23,
   "id": "0d357261",
   "metadata": {},
   "outputs": [
    {
     "data": {
      "text/plain": [
       "3.325"
      ]
     },
     "execution_count": 23,
     "metadata": {},
     "output_type": "execute_result"
    }
   ],
   "source": [
    "median_Score"
   ]
  },
  {
   "cell_type": "code",
   "execution_count": 24,
   "id": "243b06d1",
   "metadata": {},
   "outputs": [
    {
     "data": {
      "text/plain": [
       "17.71"
      ]
     },
     "execution_count": 24,
     "metadata": {},
     "output_type": "execute_result"
    }
   ],
   "source": [
    "median_Weigh"
   ]
  },
  {
   "cell_type": "code",
   "execution_count": null,
   "id": "51771782",
   "metadata": {},
   "outputs": [],
   "source": [
    "# Calculating Mode"
   ]
  },
  {
   "cell_type": "code",
   "execution_count": 29,
   "id": "0299da9a",
   "metadata": {},
   "outputs": [],
   "source": [
    "mode_Points=df['Points'].mode()\n",
    "mode_Score=df['Score'].mode()\n",
    "mode_Weigh=df['Weigh'].mode()"
   ]
  },
  {
   "cell_type": "code",
   "execution_count": 31,
   "id": "ed036632",
   "metadata": {},
   "outputs": [
    {
     "data": {
      "text/plain": [
       "3.07"
      ]
     },
     "execution_count": 31,
     "metadata": {},
     "output_type": "execute_result"
    }
   ],
   "source": [
    "mode_Points[0]"
   ]
  },
  {
   "cell_type": "code",
   "execution_count": 32,
   "id": "2f79d231",
   "metadata": {},
   "outputs": [
    {
     "data": {
      "text/plain": [
       "0    3.44\n",
       "Name: Score, dtype: float64"
      ]
     },
     "execution_count": 32,
     "metadata": {},
     "output_type": "execute_result"
    }
   ],
   "source": [
    "mode_Score"
   ]
  },
  {
   "cell_type": "code",
   "execution_count": 34,
   "id": "f1fd35bd",
   "metadata": {},
   "outputs": [
    {
     "data": {
      "text/plain": [
       "17.02"
      ]
     },
     "execution_count": 34,
     "metadata": {},
     "output_type": "execute_result"
    }
   ],
   "source": [
    "mode_Weigh[0]"
   ]
  },
  {
   "cell_type": "code",
   "execution_count": null,
   "id": "402982bb",
   "metadata": {},
   "outputs": [],
   "source": [
    "# Calculating Variance"
   ]
  },
  {
   "cell_type": "code",
   "execution_count": 43,
   "id": "bdb3d203",
   "metadata": {},
   "outputs": [],
   "source": [
    "var_Points=df['Points'].var()\n",
    "var_Score=df['Score'].var()\n",
    "var_Weigh=df['Weigh'].var()"
   ]
  },
  {
   "cell_type": "code",
   "execution_count": 42,
   "id": "f502aea0",
   "metadata": {},
   "outputs": [
    {
     "data": {
      "text/plain": [
       "0.28588135080645166"
      ]
     },
     "execution_count": 42,
     "metadata": {},
     "output_type": "execute_result"
    }
   ],
   "source": [
    "var_Points"
   ]
  },
  {
   "cell_type": "code",
   "execution_count": 36,
   "id": "c9d3c1b6",
   "metadata": {},
   "outputs": [
    {
     "data": {
      "text/plain": [
       "0.9573789677419356"
      ]
     },
     "execution_count": 36,
     "metadata": {},
     "output_type": "execute_result"
    }
   ],
   "source": [
    "var_Score"
   ]
  },
  {
   "cell_type": "code",
   "execution_count": 37,
   "id": "ea5c327a",
   "metadata": {},
   "outputs": [
    {
     "data": {
      "text/plain": [
       "3.193166129032258"
      ]
     },
     "execution_count": 37,
     "metadata": {},
     "output_type": "execute_result"
    }
   ],
   "source": [
    "var_Weigh"
   ]
  },
  {
   "cell_type": "code",
   "execution_count": null,
   "id": "d8efaf08",
   "metadata": {},
   "outputs": [],
   "source": [
    "# Calculating Standard Deviation"
   ]
  },
  {
   "cell_type": "code",
   "execution_count": 27,
   "id": "2d88895d",
   "metadata": {},
   "outputs": [],
   "source": [
    "s_Points=df['Points'].std()\n",
    "s_Score=df['Score'].std()\n",
    "s_Weigh=df['Weigh'].std()"
   ]
  },
  {
   "cell_type": "code",
   "execution_count": 38,
   "id": "0854c160",
   "metadata": {},
   "outputs": [
    {
     "data": {
      "text/plain": [
       "0.5346787360709716"
      ]
     },
     "execution_count": 38,
     "metadata": {},
     "output_type": "execute_result"
    }
   ],
   "source": [
    "s_Points"
   ]
  },
  {
   "cell_type": "code",
   "execution_count": 39,
   "id": "74b9f036",
   "metadata": {},
   "outputs": [
    {
     "data": {
      "text/plain": [
       "0.9784574429896967"
      ]
     },
     "execution_count": 39,
     "metadata": {},
     "output_type": "execute_result"
    }
   ],
   "source": [
    "s_Score"
   ]
  },
  {
   "cell_type": "code",
   "execution_count": 40,
   "id": "517d3775",
   "metadata": {},
   "outputs": [
    {
     "data": {
      "text/plain": [
       "1.7869432360968431"
      ]
     },
     "execution_count": 40,
     "metadata": {},
     "output_type": "execute_result"
    }
   ],
   "source": [
    "s_Weigh"
   ]
  },
  {
   "cell_type": "code",
   "execution_count": 47,
   "id": "22bf8868",
   "metadata": {},
   "outputs": [],
   "source": [
    "# Describe Method to get std,mean,median,"
   ]
  },
  {
   "cell_type": "code",
   "execution_count": 48,
   "id": "bac1fedf",
   "metadata": {},
   "outputs": [
    {
     "data": {
      "text/html": [
       "<div>\n",
       "<style scoped>\n",
       "    .dataframe tbody tr th:only-of-type {\n",
       "        vertical-align: middle;\n",
       "    }\n",
       "\n",
       "    .dataframe tbody tr th {\n",
       "        vertical-align: top;\n",
       "    }\n",
       "\n",
       "    .dataframe thead th {\n",
       "        text-align: right;\n",
       "    }\n",
       "</style>\n",
       "<table border=\"1\" class=\"dataframe\">\n",
       "  <thead>\n",
       "    <tr style=\"text-align: right;\">\n",
       "      <th></th>\n",
       "      <th>Points</th>\n",
       "      <th>Score</th>\n",
       "      <th>Weigh</th>\n",
       "    </tr>\n",
       "  </thead>\n",
       "  <tbody>\n",
       "    <tr>\n",
       "      <th>count</th>\n",
       "      <td>32.000000</td>\n",
       "      <td>32.000000</td>\n",
       "      <td>32.000000</td>\n",
       "    </tr>\n",
       "    <tr>\n",
       "      <th>mean</th>\n",
       "      <td>3.596563</td>\n",
       "      <td>3.217250</td>\n",
       "      <td>17.848750</td>\n",
       "    </tr>\n",
       "    <tr>\n",
       "      <th>std</th>\n",
       "      <td>0.534679</td>\n",
       "      <td>0.978457</td>\n",
       "      <td>1.786943</td>\n",
       "    </tr>\n",
       "    <tr>\n",
       "      <th>min</th>\n",
       "      <td>2.760000</td>\n",
       "      <td>1.513000</td>\n",
       "      <td>14.500000</td>\n",
       "    </tr>\n",
       "    <tr>\n",
       "      <th>25%</th>\n",
       "      <td>3.080000</td>\n",
       "      <td>2.581250</td>\n",
       "      <td>16.892500</td>\n",
       "    </tr>\n",
       "    <tr>\n",
       "      <th>50%</th>\n",
       "      <td>3.695000</td>\n",
       "      <td>3.325000</td>\n",
       "      <td>17.710000</td>\n",
       "    </tr>\n",
       "    <tr>\n",
       "      <th>75%</th>\n",
       "      <td>3.920000</td>\n",
       "      <td>3.610000</td>\n",
       "      <td>18.900000</td>\n",
       "    </tr>\n",
       "    <tr>\n",
       "      <th>max</th>\n",
       "      <td>4.930000</td>\n",
       "      <td>5.424000</td>\n",
       "      <td>22.900000</td>\n",
       "    </tr>\n",
       "  </tbody>\n",
       "</table>\n",
       "</div>"
      ],
      "text/plain": [
       "          Points      Score      Weigh\n",
       "count  32.000000  32.000000  32.000000\n",
       "mean    3.596563   3.217250  17.848750\n",
       "std     0.534679   0.978457   1.786943\n",
       "min     2.760000   1.513000  14.500000\n",
       "25%     3.080000   2.581250  16.892500\n",
       "50%     3.695000   3.325000  17.710000\n",
       "75%     3.920000   3.610000  18.900000\n",
       "max     4.930000   5.424000  22.900000"
      ]
     },
     "execution_count": 48,
     "metadata": {},
     "output_type": "execute_result"
    }
   ],
   "source": [
    "df.describe()"
   ]
  },
  {
   "cell_type": "code",
   "execution_count": 1,
   "id": "beeee5c7",
   "metadata": {},
   "outputs": [],
   "source": [
    "# Calculating the range "
   ]
  },
  {
   "cell_type": "code",
   "execution_count": 18,
   "id": "9a7c2b83",
   "metadata": {},
   "outputs": [],
   "source": [
    "Point_range=df['Points'].max()-df['Points'].min()"
   ]
  },
  {
   "cell_type": "code",
   "execution_count": 19,
   "id": "8776dfc6",
   "metadata": {},
   "outputs": [
    {
     "data": {
      "text/plain": [
       "2.17"
      ]
     },
     "execution_count": 19,
     "metadata": {},
     "output_type": "execute_result"
    }
   ],
   "source": [
    "Point_range"
   ]
  },
  {
   "cell_type": "code",
   "execution_count": 20,
   "id": "786f9d9a",
   "metadata": {},
   "outputs": [],
   "source": [
    "Score_range=df['Score'].max()-df['Score'].min()"
   ]
  },
  {
   "cell_type": "code",
   "execution_count": 21,
   "id": "a5e9d969",
   "metadata": {},
   "outputs": [
    {
     "data": {
      "text/plain": [
       "3.9110000000000005"
      ]
     },
     "execution_count": 21,
     "metadata": {},
     "output_type": "execute_result"
    }
   ],
   "source": [
    "Score_range"
   ]
  },
  {
   "cell_type": "code",
   "execution_count": 22,
   "id": "a3b5041a",
   "metadata": {},
   "outputs": [],
   "source": [
    "Weigh_range=df['Weigh'].max()-df['Weigh'].min()"
   ]
  },
  {
   "cell_type": "code",
   "execution_count": 23,
   "id": "b1b28bc4",
   "metadata": {},
   "outputs": [
    {
     "data": {
      "text/plain": [
       "8.399999999999999"
      ]
     },
     "execution_count": 23,
     "metadata": {},
     "output_type": "execute_result"
    }
   ],
   "source": [
    "Weigh_range"
   ]
  },
  {
   "cell_type": "code",
   "execution_count": null,
   "id": "a43b45fe",
   "metadata": {},
   "outputs": [],
   "source": []
  }
 ],
 "metadata": {
  "kernelspec": {
   "display_name": "Python 3 (ipykernel)",
   "language": "python",
   "name": "python3"
  },
  "language_info": {
   "codemirror_mode": {
    "name": "ipython",
    "version": 3
   },
   "file_extension": ".py",
   "mimetype": "text/x-python",
   "name": "python",
   "nbconvert_exporter": "python",
   "pygments_lexer": "ipython3",
   "version": "3.9.13"
  }
 },
 "nbformat": 4,
 "nbformat_minor": 5
}
